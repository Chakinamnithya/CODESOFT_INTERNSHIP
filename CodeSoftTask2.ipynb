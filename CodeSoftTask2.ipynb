{
  "nbformat": 4,
  "nbformat_minor": 0,
  "metadata": {
    "colab": {
      "provenance": [],
      "authorship_tag": "ABX9TyPr0P9BOvZhx/mlv6Z05lXt",
      "include_colab_link": true
    },
    "kernelspec": {
      "name": "python3",
      "display_name": "Python 3"
    },
    "language_info": {
      "name": "python"
    }
  },
  "cells": [
    {
      "cell_type": "markdown",
      "metadata": {
        "id": "view-in-github",
        "colab_type": "text"
      },
      "source": [
        "<a href=\"https://colab.research.google.com/github/Chakinamnithya/CODESOFT_INTERNSHIP/blob/main/CodeSoftTask2.ipynb\" target=\"_parent\"><img src=\"https://colab.research.google.com/assets/colab-badge.svg\" alt=\"Open In Colab\"/></a>"
      ]
    },
    {
      "cell_type": "markdown",
      "source": [
        "**IMPORTING LIBRARIES**"
      ],
      "metadata": {
        "id": "VoUzpte-KAn5"
      }
    },
    {
      "cell_type": "code",
      "source": [
        "\n",
        "import pandas as pd\n",
        "import numpy as np\n",
        "from sklearn.model_selection import train_test_split\n",
        "from sklearn.preprocessing import OneHotEncoder\n",
        "from sklearn.compose import ColumnTransformer\n",
        "from sklearn.pipeline import Pipeline\n",
        "from sklearn.linear_model import LinearRegression\n",
        "from sklearn.metrics import mean_absolute_error, mean_squared_error, r2_score"
      ],
      "metadata": {
        "id": "ydI94w7MIYyW"
      },
      "execution_count": null,
      "outputs": []
    },
    {
      "cell_type": "markdown",
      "source": [
        "**LOADING DATASET **"
      ],
      "metadata": {
        "id": "vmdhvlgLKFWL"
      }
    },
    {
      "cell_type": "code",
      "source": [
        "\n",
        "try:\n",
        "    df = pd.read_csv(\"/content/IMDb Movies India.csv\", encoding=\"ISO-8859-1\")\n",
        "except:\n",
        "    df = pd.read_csv(\"/content/IMDb Movies India.csv\", encoding=\"cp1252\")\n",
        "\n",
        "print(\"✅ Dataset Loaded Successfully\")\n",
        "print(df.head())\n",
        "print(df.info())\n"
      ],
      "metadata": {
        "colab": {
          "base_uri": "https://localhost:8080/"
        },
        "id": "rNXi0kn6JdBL",
        "outputId": "c93e9714-97cc-4265-b24c-ca1345bdaacd"
      },
      "execution_count": null,
      "outputs": [
        {
          "output_type": "stream",
          "name": "stdout",
          "text": [
            "✅ Dataset Loaded Successfully\n",
            "                                 Name    Year Duration            Genre  \\\n",
            "0                                         NaN      NaN            Drama   \n",
            "1  #Gadhvi (He thought he was Gandhi)  (2019)  109 min            Drama   \n",
            "2                         #Homecoming  (2021)   90 min   Drama, Musical   \n",
            "3                             #Yaaram  (2019)  110 min  Comedy, Romance   \n",
            "4                   ...And Once Again  (2010)  105 min            Drama   \n",
            "\n",
            "   Rating Votes            Director       Actor 1             Actor 2  \\\n",
            "0     NaN   NaN       J.S. Randhawa      Manmauji              Birbal   \n",
            "1     7.0     8       Gaurav Bakshi  Rasika Dugal      Vivek Ghamande   \n",
            "2     NaN   NaN  Soumyajit Majumdar  Sayani Gupta   Plabita Borthakur   \n",
            "3     4.4    35          Ovais Khan       Prateik          Ishita Raj   \n",
            "4     NaN   NaN        Amol Palekar  Rajat Kapoor  Rituparna Sengupta   \n",
            "\n",
            "           Actor 3  \n",
            "0  Rajendra Bhatia  \n",
            "1    Arvind Jangid  \n",
            "2       Roy Angana  \n",
            "3  Siddhant Kapoor  \n",
            "4      Antara Mali  \n",
            "<class 'pandas.core.frame.DataFrame'>\n",
            "RangeIndex: 15509 entries, 0 to 15508\n",
            "Data columns (total 10 columns):\n",
            " #   Column    Non-Null Count  Dtype  \n",
            "---  ------    --------------  -----  \n",
            " 0   Name      15509 non-null  object \n",
            " 1   Year      14981 non-null  object \n",
            " 2   Duration  7240 non-null   object \n",
            " 3   Genre     13632 non-null  object \n",
            " 4   Rating    7919 non-null   float64\n",
            " 5   Votes     7920 non-null   object \n",
            " 6   Director  14984 non-null  object \n",
            " 7   Actor 1   13892 non-null  object \n",
            " 8   Actor 2   13125 non-null  object \n",
            " 9   Actor 3   12365 non-null  object \n",
            "dtypes: float64(1), object(9)\n",
            "memory usage: 1.2+ MB\n",
            "None\n"
          ]
        }
      ]
    },
    {
      "cell_type": "markdown",
      "source": [
        "**FEATURE SELECTION**"
      ],
      "metadata": {
        "id": "j0tdnDHiKL1i"
      }
    },
    {
      "cell_type": "code",
      "source": [
        "\n",
        "# Combine Actor columns into one\n",
        "df['Actors'] = df[['Actor 1', 'Actor 2', 'Actor 3']].fillna('').agg(' '.join, axis=1)\n",
        "\n",
        "# Keep relevant columns\n",
        "df = df[['Genre', 'Director', 'Actors', 'Rating']]\n",
        "\n",
        "# Drop missing target values\n",
        "df.dropna(subset=['Rating'], inplace=True)\n",
        "\n",
        "print(\"\\n✅ After Cleaning:\")\n",
        "print(df.head())"
      ],
      "metadata": {
        "colab": {
          "base_uri": "https://localhost:8080/"
        },
        "id": "ld9SxRI8JgcR",
        "outputId": "f9b33618-b36a-4e31-9976-661172bad044"
      },
      "execution_count": null,
      "outputs": [
        {
          "output_type": "stream",
          "name": "stdout",
          "text": [
            "\n",
            "✅ After Cleaning:\n",
            "                       Genre        Director  \\\n",
            "1                      Drama   Gaurav Bakshi   \n",
            "3            Comedy, Romance      Ovais Khan   \n",
            "5     Comedy, Drama, Musical    Rahul Rawail   \n",
            "6        Drama, Romance, War  Shoojit Sircar   \n",
            "8  Horror, Mystery, Thriller   Allyson Patel   \n",
            "\n",
            "                                            Actors  Rating  \n",
            "1        Rasika Dugal Vivek Ghamande Arvind Jangid     7.0  \n",
            "3               Prateik Ishita Raj Siddhant Kapoor     4.4  \n",
            "5  Bobby Deol Aishwarya Rai Bachchan Shammi Kapoor     4.7  \n",
            "6    Jimmy Sheirgill Minissha Lamba Yashpal Sharma     7.4  \n",
            "8            Yash Dave Muntazir Ahmad Kiran Bhatia     5.6  \n"
          ]
        }
      ]
    },
    {
      "cell_type": "markdown",
      "source": [
        "**SPLITING THE DATA INTO TRAIN AND TEST DATA**"
      ],
      "metadata": {
        "id": "edz-s9HsKQUP"
      }
    },
    {
      "cell_type": "code",
      "source": [
        "\n",
        "X = df[['Genre', 'Director', 'Actors']]\n",
        "y = df['Rating']\n",
        "\n",
        "X_train, X_test, y_train, y_test = train_test_split(X, y, test_size=0.2, random_state=42)"
      ],
      "metadata": {
        "id": "C7NZXvJBJkMU"
      },
      "execution_count": null,
      "outputs": []
    },
    {
      "cell_type": "markdown",
      "source": [
        "**PREPROCESSING AND MODEL PIPELINE**"
      ],
      "metadata": {
        "id": "8Pg9AFfBKany"
      }
    },
    {
      "cell_type": "code",
      "source": [
        "\n",
        "preprocessor = ColumnTransformer(\n",
        "    transformers=[('cat', OneHotEncoder(handle_unknown='ignore'), ['Genre', 'Director', 'Actors'])]\n",
        ")\n",
        "\n",
        "model = Pipeline([\n",
        "    ('preprocessor', preprocessor),\n",
        "    ('regressor', LinearRegression())\n",
        "])"
      ],
      "metadata": {
        "id": "_IBE7Pc6Jqsk"
      },
      "execution_count": null,
      "outputs": []
    },
    {
      "cell_type": "markdown",
      "source": [
        "**MODEL TRAINING**"
      ],
      "metadata": {
        "id": "KPDvHSzaKliN"
      }
    },
    {
      "cell_type": "code",
      "source": [
        "# Train model\n",
        "model.fit(X_train, y_train)\n",
        "\n",
        "# Predictions\n",
        "y_pred = model.predict(X_test)"
      ],
      "metadata": {
        "id": "RA9j6zIEJseC"
      },
      "execution_count": null,
      "outputs": []
    },
    {
      "cell_type": "markdown",
      "source": [
        "**MODEL EVALUATION**"
      ],
      "metadata": {
        "id": "E17sKg1LKsxx"
      }
    },
    {
      "cell_type": "code",
      "source": [
        "\n",
        "print(\"\\n📊 Model Performance:\")\n",
        "print(\"MAE :\", mean_absolute_error(y_test, y_pred))\n",
        "print(\"RMSE:\", np.sqrt(mean_squared_error(y_test, y_pred)))\n",
        "print(\"R² Score:\", r2_score(y_test, y_pred))"
      ],
      "metadata": {
        "colab": {
          "base_uri": "https://localhost:8080/"
        },
        "id": "uJF3zEWHJx_A",
        "outputId": "ed1c3dad-ea46-42b0-9234-c1768b82fe67"
      },
      "execution_count": null,
      "outputs": [
        {
          "output_type": "stream",
          "name": "stdout",
          "text": [
            "\n",
            "📊 Model Performance:\n",
            "MAE : 1.1602741658507576\n",
            "RMSE: 1.4911487832671195\n",
            "R² Score: -0.1959930643556651\n"
          ]
        }
      ]
    },
    {
      "cell_type": "markdown",
      "source": [
        "**PREDICTING NEW VALUES**"
      ],
      "metadata": {
        "id": "asP2QXYKKyt6"
      }
    },
    {
      "cell_type": "code",
      "source": [
        "\n",
        "sample = pd.DataFrame({\n",
        "    'Genre': ['Drama'],\n",
        "    'Director': ['Rajkumar Hirani'],\n",
        "    'Actors': ['Aamir Khan Kareena Kapoor']\n",
        "})\n",
        "\n",
        "print(\"\\n🎥 Predicted Rating for Sample Movie:\", model.predict(sample)[0])"
      ],
      "metadata": {
        "colab": {
          "base_uri": "https://localhost:8080/"
        },
        "id": "kqexak4EJ59o",
        "outputId": "51b834c3-dd6f-4d62-ad01-055cd946693b"
      },
      "execution_count": null,
      "outputs": [
        {
          "output_type": "stream",
          "name": "stdout",
          "text": [
            "\n",
            "🎥 Predicted Rating for Sample Movie: 7.3806306917837095\n"
          ]
        }
      ]
    },
    {
      "cell_type": "code",
      "source": [],
      "metadata": {
        "id": "Jp3zXTL9N_29"
      },
      "execution_count": null,
      "outputs": []
    }
  ]
}